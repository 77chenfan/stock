{
 "cells": [
  {
   "cell_type": "code",
   "execution_count": 3,
   "metadata": {
    "collapsed": false
   },
   "outputs": [],
   "source": [
    "import tushare as ts\n",
    "import time\n",
    "import sys\n",
    "import pandas as pd\n",
    "from pandas import Series,DataFrame\n",
    "import matplotlib.pyplot as plt\n",
    "#reload(sys)\n",
    "#sys.setdefaultencoding( \"utf-8\" )\n"
   ]
  },
  {
   "cell_type": "code",
   "execution_count": 4,
   "metadata": {
    "collapsed": true
   },
   "outputs": [],
   "source": [
    "def getTushareData(stocknum):\n",
    "    df=ts.get_hist_data(stocknum,start=startdate,end=enddate)\n",
    "    df.to_csv(stocknum+'_one_year.csv')"
   ]
  },
  {
   "cell_type": "code",
   "execution_count": null,
   "metadata": {
    "collapsed": true
   },
   "outputs": [],
   "source": [
    "def getRealtimeData(stocknum):\n",
    "    df0 = ts.get_realtime_quotes(stocknum)\n",
    "    price=df0.ix[0]['price']\n",
    "    print price\n",
    "    for t in range(1000):\n",
    "        df = ts.get_realtime_quotes(stocknum)\n",
    "        df0=df0.append(df,t)\n",
    "        price1=df.ix[0]['price']\n",
    "        print price\n",
    "        print price1\n",
    "        if(price1 != price):\n",
    "            print \"sleep(5)\"\n",
    "            time.sleep(5)\n",
    "        else:\n",
    "            print \"sleep 15\"\n",
    "            time.sleep(10)\n",
    "        price =price1\n",
    "\n",
    "    reload(sys)\n",
    "    print sys.getdefaultencoding()\n",
    "    sys.setdefaultencoding( \"utf-8\" )\n",
    "    df0.to_csv(stocknum+\"_realtime.csv\")"
   ]
  },
  {
   "cell_type": "code",
   "execution_count": 10,
   "metadata": {
    "collapsed": false
   },
   "outputs": [],
   "source": [
    "def getStockBasicData():\n",
    "    reload(sys)\n",
    "    print sys.getdefaultencoding()\n",
    "    sys.setdefaultencoding( \"utf-8\" )\n",
    "    df=ts.get_report_data(2017,1)\n",
    "    df.to_csv(\"stocks_report.csv\")\n",
    "getStockBasicData()"
   ]
  }
 ],
 "metadata": {
  "kernelspec": {
   "display_name": "Python 2",
   "language": "python",
   "name": "python2"
  },
  "language_info": {
   "codemirror_mode": {
    "name": "ipython",
    "version": 2
   },
   "file_extension": ".py",
   "mimetype": "text/x-python",
   "name": "python",
   "nbconvert_exporter": "python",
   "pygments_lexer": "ipython2",
   "version": "2.7.11"
  }
 },
 "nbformat": 4,
 "nbformat_minor": 0
}
