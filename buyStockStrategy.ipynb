{
 "cells": [
  {
   "cell_type": "code",
   "execution_count": 2,
   "metadata": {
    "collapsed": false
   },
   "outputs": [
    {
     "name": "stdout",
     "output_type": "stream",
     "text": [
      "start date is 2016-11-08, end date is 2017-11-08\n"
     ]
    }
   ],
   "source": [
    "import pandas as pd\n",
    "import matplotlib.pyplot as plt\n",
    "import tushare as ts\n",
    "import datetime\n",
    "import time\n",
    "\n",
    "enddate=time.strftime(\"%Y-%m-%d\",time.localtime())\n",
    "year =datetime.datetime.now().year\n",
    "last_year= int(year)-1\n",
    "startdate=enddate.replace(str(year),str(last_year))\n",
    "print \"start date is %s, end date is %s\"%(startdate,enddate)\n",
    "\n",
    "fig=plt.figure()\n",
    "ax1=fig.add_subplot(1,1,1)"
   ]
  },
  {
   "cell_type": "code",
   "execution_count": 5,
   "metadata": {
    "collapsed": true
   },
   "outputs": [],
   "source": [
    "%run tushareGetData.ipynb"
   ]
  },
  {
   "cell_type": "code",
   "execution_count": 3,
   "metadata": {
    "collapsed": false
   },
   "outputs": [],
   "source": [
    "# buy stock at the lowest price in N day\n",
    "def buyStockNDayLowest(df,n):\n",
    "    cost=0\n",
    "    holdNum=0\n",
    "    rateofreturn={}\n",
    "    profit=0\n",
    "    rate=0 \n",
    "    for i in range(n,df.index.size):\n",
    "        Nprice=df[(i-n):i]['low']\n",
    "        nowprice = Nprice.get_value(i-1)\n",
    "        endprice=df.get_value(i,'close')\n",
    "        if holdNum != 0:\n",
    "            rate=holdNum*float(nowprice)/cost -1\n",
    "        if nowprice == Nprice.min() and rate >=-0.1 and rate <=0.15:\n",
    "            holdNum=holdNum+100\n",
    "            cost=cost + float(endprice) * 100\n",
    "            print \"buy stock at %d, the price is %s\"%(i,endprice)\n",
    "        elif rate <-0.1 or rate >0.15:\n",
    "            #sold all stocks\n",
    "            profit=holdNum * float(endprice) -cost + profit\n",
    "            rateofreturn.update({i:profit})\n",
    "            cost=0\n",
    "            holdNum=0\n",
    "            rate=0\n",
    "            print \"profit is %d\"%profit\n",
    "        if i ==df.index.size:\n",
    "            profit=holdNum * float(endprice) -cost + profit\n",
    "            rateofreturn.update({i:profit})\n",
    "            \n",
    "            \n",
    "    return (profit,rateofreturn)\n",
    "\n",
    "def getTushareData(stocknum):\n",
    "    df=ts.get_hist_data(stocknum,start=startdate,end=enddate)\n",
    "    df.to_csv(stocknum+'_one_year.csv')\n",
    "def analyticNDay(stocknum):\n",
    "    df=pd.read_csv(stocknum+'_one_year.csv')\n",
    "    for N in range(4,5):\n",
    "        (profit,rateofreturn)=buyStockNDayLowest(df,N)\n",
    "        myrate=pd.Series(rateofreturn)\n",
    "        print myrate\n",
    "        plt.plot(myrate)\n",
    "        plt.plot(df['close']/df.get_value(0,'close')-1,'r--')\n",
    "        print profit\n",
    "        print stocknum\n",
    "    plt.legend('best')\n",
    "    plt.show()"
   ]
  },
  {
   "cell_type": "code",
   "execution_count": 6,
   "metadata": {
    "collapsed": false
   },
   "outputs": [
    {
     "ename": "TypeError",
     "evalue": "get_stock_basics() takes no arguments (1 given)",
     "output_type": "error",
     "traceback": [
      "\u001b[1;31m---------------------------------------------------------------------------\u001b[0m",
      "\u001b[1;31mTypeError\u001b[0m                                 Traceback (most recent call last)",
      "\u001b[1;32m<ipython-input-6-0a85bfd30240>\u001b[0m in \u001b[0;36m<module>\u001b[1;34m()\u001b[0m\n\u001b[0;32m      3\u001b[0m \u001b[1;32mfor\u001b[0m \u001b[0msk\u001b[0m \u001b[1;32min\u001b[0m \u001b[0mstocklist\u001b[0m\u001b[1;33m:\u001b[0m\u001b[1;33m\u001b[0m\u001b[0m\n\u001b[0;32m      4\u001b[0m     \u001b[1;31m#getTushareData(sk)\u001b[0m\u001b[1;33m\u001b[0m\u001b[1;33m\u001b[0m\u001b[0m\n\u001b[1;32m----> 5\u001b[1;33m     \u001b[0mgetStockBasicData\u001b[0m\u001b[1;33m(\u001b[0m\u001b[0msk\u001b[0m\u001b[1;33m)\u001b[0m\u001b[1;33m\u001b[0m\u001b[0m\n\u001b[0m",
      "\u001b[1;32m<ipython-input-5-96f38115028d>\u001b[0m in \u001b[0;36mgetStockBasicData\u001b[1;34m(stockid)\u001b[0m\n\u001b[0;32m      2\u001b[0m     \u001b[0mreload\u001b[0m\u001b[1;33m(\u001b[0m\u001b[0msys\u001b[0m\u001b[1;33m)\u001b[0m\u001b[1;33m\u001b[0m\u001b[0m\n\u001b[0;32m      3\u001b[0m     \u001b[1;32mprint\u001b[0m \u001b[0msys\u001b[0m\u001b[1;33m.\u001b[0m\u001b[0mgetdefaultencoding\u001b[0m\u001b[1;33m(\u001b[0m\u001b[1;33m)\u001b[0m\u001b[1;33m\u001b[0m\u001b[0m\n\u001b[1;32m----> 4\u001b[1;33m     \u001b[0mdf\u001b[0m\u001b[1;33m=\u001b[0m\u001b[0mts\u001b[0m\u001b[1;33m.\u001b[0m\u001b[0mget_stock_basics\u001b[0m\u001b[1;33m(\u001b[0m\u001b[0mstockid\u001b[0m\u001b[1;33m)\u001b[0m\u001b[1;33m\u001b[0m\u001b[0m\n\u001b[0m\u001b[0;32m      5\u001b[0m     \u001b[0mdf\u001b[0m\u001b[1;33m.\u001b[0m\u001b[0mtocsv\u001b[0m\u001b[1;33m(\u001b[0m\u001b[0mstockid\u001b[0m\u001b[1;33m+\u001b[0m\u001b[1;34m\"_basics.csv\"\u001b[0m\u001b[1;33m)\u001b[0m\u001b[1;33m\u001b[0m\u001b[0m\n",
      "\u001b[1;31mTypeError\u001b[0m: get_stock_basics() takes no arguments (1 given)"
     ]
    }
   ],
   "source": [
    "#query tushare to get data\n",
    "stocklist=['002457','600703','600633','600519','600522','601101','600340','600415','000520','600000']\n",
    "for sk in stocklist:\n",
    "    #getTushareData(sk)\n",
    "    getStockBasicData(sk)"
   ]
  },
  {
   "cell_type": "code",
   "execution_count": 4,
   "metadata": {
    "collapsed": false,
    "scrolled": true
   },
   "outputs": [
    {
     "name": "stdout",
     "output_type": "stream",
     "text": [
      "buy stock at 5, the price is 17.8\n",
      "buy stock at 6, the price is 18.17\n",
      "buy stock at 8, the price is 18.41\n",
      "buy stock at 13, the price is 17.17\n",
      "buy stock at 14, the price is 16.68\n",
      "buy stock at 15, the price is 16.89\n",
      "buy stock at 21, the price is 17.17\n",
      "buy stock at 23, the price is 15.87\n",
      "profit is -935\n",
      "buy stock at 26, the price is 15.89\n",
      "profit is -567\n",
      "buy stock at 39, the price is 19.86\n",
      "buy stock at 40, the price is 19.1\n",
      "buy stock at 47, the price is 22.12\n",
      "buy stock at 48, the price is 21.47\n",
      "buy stock at 50, the price is 20.27\n",
      "profit is -1634\n",
      "buy stock at 52, the price is 17.99\n",
      "buy stock at 53, the price is 18.83\n",
      "buy stock at 59, the price is 18.44\n",
      "buy stock at 60, the price is 17.45\n",
      "profit is -3137\n",
      "buy stock at 63, the price is 13.11\n",
      "buy stock at 64, the price is 11.92\n",
      "buy stock at 65, the price is 10.84\n",
      "profit is -3490\n",
      "buy stock at 72, the price is 11.65\n",
      "buy stock at 76, the price is 11.63\n",
      "buy stock at 78, the price is 11.53\n",
      "buy stock at 80, the price is 11.45\n",
      "buy stock at 86, the price is 11.53\n",
      "buy stock at 91, the price is 11.51\n",
      "buy stock at 95, the price is 11.24\n",
      "buy stock at 102, the price is 11.38\n",
      "buy stock at 103, the price is 11.26\n",
      "buy stock at 104, the price is 11.28\n",
      "buy stock at 105, the price is 11.01\n",
      "buy stock at 106, the price is 11.05\n",
      "buy stock at 107, the price is 11.06\n",
      "buy stock at 109, the price is 10.93\n",
      "buy stock at 110, the price is 10.8\n",
      "buy stock at 111, the price is 10.61\n",
      "buy stock at 112, the price is 10.47\n",
      "buy stock at 114, the price is 10.49\n",
      "buy stock at 115, the price is 11.2\n",
      "buy stock at 124, the price is 11.61\n",
      "buy stock at 125, the price is 11.6\n",
      "buy stock at 128, the price is 11.51\n",
      "buy stock at 129, the price is 11.29\n",
      "buy stock at 134, the price is 11.28\n",
      "buy stock at 135, the price is 11.04\n",
      "buy stock at 136, the price is 10.83\n",
      "buy stock at 138, the price is 10.88\n",
      "buy stock at 143, the price is 11.58\n",
      "buy stock at 144, the price is 11.52\n",
      "buy stock at 156, the price is 12.15\n",
      "buy stock at 158, the price is 12.13\n",
      "buy stock at 160, the price is 11.91\n",
      "buy stock at 161, the price is 11.69\n",
      "buy stock at 162, the price is 11.86\n",
      "buy stock at 166, the price is 11.64\n",
      "buy stock at 170, the price is 11.74\n",
      "buy stock at 171, the price is 11.61\n",
      "buy stock at 172, the price is 11.53\n",
      "buy stock at 173, the price is 11.7\n",
      "buy stock at 176, the price is 11.26\n",
      "buy stock at 181, the price is 11.42\n",
      "buy stock at 182, the price is 11.23\n",
      "buy stock at 183, the price is 11.2\n",
      "buy stock at 184, the price is 10.95\n",
      "buy stock at 185, the price is 11.03\n",
      "buy stock at 186, the price is 11.19\n",
      "buy stock at 193, the price is 11.57\n",
      "buy stock at 198, the price is 11.16\n",
      "buy stock at 199, the price is 11.02\n",
      "buy stock at 200, the price is 10.86\n",
      "buy stock at 201, the price is 10.82\n",
      "buy stock at 205, the price is 10.7\n",
      "buy stock at 206, the price is 10.68\n",
      "buy stock at 207, the price is 10.82\n",
      "buy stock at 214, the price is 10.67\n",
      "buy stock at 215, the price is 10.44\n",
      "buy stock at 216, the price is 10.37\n",
      "buy stock at 221, the price is 10.51\n",
      "buy stock at 225, the price is 10.86\n",
      "buy stock at 234, the price is 11.15\n",
      "buy stock at 235, the price is 11.2\n",
      "buy stock at 239, the price is 11.4\n",
      "24    -936\n",
      "34    -568\n",
      "51   -1635\n",
      "62   -3138\n",
      "66   -3491\n",
      "dtype: float64\n",
      "-3491.0\n",
      "002457\n"
     ]
    }
   ],
   "source": [
    "analyticNDay('002457')"
   ]
  }
 ],
 "metadata": {
  "kernelspec": {
   "display_name": "Python 2",
   "language": "python",
   "name": "python2"
  },
  "language_info": {
   "codemirror_mode": {
    "name": "ipython",
    "version": 2
   },
   "file_extension": ".py",
   "mimetype": "text/x-python",
   "name": "python",
   "nbconvert_exporter": "python",
   "pygments_lexer": "ipython2",
   "version": "2.7.11"
  }
 },
 "nbformat": 4,
 "nbformat_minor": 0
}
